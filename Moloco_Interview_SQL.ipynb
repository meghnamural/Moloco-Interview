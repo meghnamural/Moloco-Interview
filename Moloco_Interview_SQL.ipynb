{
  "nbformat": 4,
  "nbformat_minor": 0,
  "metadata": {
    "colab": {
      "name": "Moloco Interview SQL.ipynb",
      "provenance": []
    },
    "kernelspec": {
      "name": "python3",
      "display_name": "Python 3"
    }
  },
  "cells": [
    {
      "cell_type": "markdown",
      "metadata": {
        "id": "izvOOTIOvfZE",
        "colab_type": "text"
      },
      "source": [
        "# Interview Part 1 : SQL Questions"
      ]
    },
    {
      "cell_type": "code",
      "metadata": {
        "id": "e0xHaItv60lW",
        "colab_type": "code",
        "colab": {
          "base_uri": "https://localhost:8080/",
          "height": 34
        },
        "outputId": "d9ccc7e7-2fdc-4dfc-c857-2a54aa35c393"
      },
      "source": [
        "from google.colab import auth\n",
        "auth.authenticate_user()\n",
        "print('Authenticated')"
      ],
      "execution_count": 2,
      "outputs": [
        {
          "output_type": "stream",
          "text": [
            "Authenticated\n"
          ],
          "name": "stdout"
        }
      ]
    },
    {
      "cell_type": "markdown",
      "metadata": {
        "id": "VreuX0u8vtRq",
        "colab_type": "text"
      },
      "source": [
        "Note: I added the dataset to Google BigQuery and connected the data using Google Colab notebook. \n",
        "`carbide-algebra-274912.interview.adops` is the name of the table on bigquery"
      ]
    },
    {
      "cell_type": "markdown",
      "metadata": {
        "id": "6GI21sHOZK0v",
        "colab_type": "text"
      },
      "source": [
        "**Question 1:** Consider only the rows with country_id = \"BDV\" (there are 844 such rows). For each site_id, we can compute the number of unique user_id's found in these 844 rows. Which site_id has the largest number of unique users? And what's the number?"
      ]
    },
    {
      "cell_type": "code",
      "metadata": {
        "id": "iOJlMw0mH_83",
        "colab_type": "code",
        "colab": {
          "base_uri": "https://localhost:8080/",
          "height": 51
        },
        "outputId": "efe227a7-3a3d-46bc-bf78-7ee09e3da2ad"
      },
      "source": [
        "from google.cloud import bigquery\n",
        "project_id='carbide-algebra-274912'\n",
        "client=bigquery.Client(project=project_id)\n",
        "dfq1=client.query('''SELECT site_id,(count(distinct(user_id))) as NumberOfUniqueUsers FROM `carbide-algebra-274912.interview.adops` where country_id='BDV' group by site_id order by NumberOfUniqueUsers desc limit 1''').to_dataframe()\n",
        "print(dfq1)"
      ],
      "execution_count": 9,
      "outputs": [
        {
          "output_type": "stream",
          "text": [
            "  site_id  NumberOfUniqueUsers\n",
            "0   5NPAU                  544\n"
          ],
          "name": "stdout"
        }
      ]
    },
    {
      "cell_type": "markdown",
      "metadata": {
        "id": "pn42-ZgXZrfS",
        "colab_type": "text"
      },
      "source": [
        "**Question 2:** Between 2019-02-03 00:00:00 and 2019-02-04 23:59:59, there are four users who visited a certain site more than 10 times. Find these four users & which sites they (each) visited more than 10 times. (Simply provides four triples in the form (user_id, site_id, number of visits) in the box below.)"
      ]
    },
    {
      "cell_type": "code",
      "metadata": {
        "id": "3Zct_dBpI77l",
        "colab_type": "code",
        "colab": {
          "base_uri": "https://localhost:8080/",
          "height": 102
        },
        "outputId": "ac913113-f1b8-466d-8b5c-3472b4f9973b"
      },
      "source": [
        "dfq2=client.query('''select user_id,site_id,count(ts) as NumberOfTimesVisited from `carbide-algebra-274912.interview.adops` where ts>'2019-02-03 00:00:00' and ts<'2019-02-04 23:59:59' group by user_id,site_id having count(ts)>10 order by NumberOfTimesVisited desc''').to_dataframe()\n",
        "print(dfq2)"
      ],
      "execution_count": 26,
      "outputs": [
        {
          "output_type": "stream",
          "text": [
            "  user_id site_id  NumberOfTimesVisited\n",
            "0  LC3A59   N0OTG                    26\n",
            "1  LC06C3   N0OTG                    25\n",
            "2  LC3C9D   N0OTG                    17\n",
            "3  LC3C7E   3POLC                    15\n"
          ],
          "name": "stdout"
        }
      ]
    },
    {
      "cell_type": "markdown",
      "metadata": {
        "id": "KHQH-IYbd4jw",
        "colab_type": "text"
      },
      "source": [
        "Observation: On the given day three of the most visited users visited the same site N0OTG. I ran an additional query to see the site with most number of unique visitors and found it to be 5NPAU followed by N0OTG. I would research further to see why users LC3A59, LC06C3 and LC3C9D visited N0OTG these many times on this given day."
      ]
    },
    {
      "cell_type": "markdown",
      "metadata": {
        "id": "EhPQjVIda3jk",
        "colab_type": "text"
      },
      "source": [
        "**Question 3**: For each site, compute the unique number of users whose last visit (found in the original data set) was to that site. For instance, user \"LC3561\"'s last visit is to \"N0OTG\" based on timestamp data. Based on this measure, what are top three sites? (hint: site \"3POLC\" is ranked at 5th with 28 users whose last visit in the data set was to 3POLC; simply provide three pairs in the form (site_id, number of users).)"
      ]
    },
    {
      "cell_type": "code",
      "metadata": {
        "id": "AHm8i8SfJG-O",
        "colab_type": "code",
        "colab": {
          "base_uri": "https://localhost:8080/",
          "height": 85
        },
        "outputId": "d208d5f1-d29e-4344-b23c-38f7938a73b2"
      },
      "source": [
        "dfq3=client.query('''SELECT site_id, COUNT( distinct user_id) as user_count FROM `carbide-algebra-274912.interview.adops` AS v\n",
        "                  where ts=(SELECT MAX(ts) \n",
        "                    FROM `carbide-algebra-274912.interview.adops` as w where v.user_id=w.user_id\n",
        "                ) \n",
        "                GROUP BY v.site_id\n",
        "                ORDER BY user_count DESC\n",
        "                LIMIT 3''').to_dataframe()\n",
        "print(dfq3)                "
      ],
      "execution_count": 17,
      "outputs": [
        {
          "output_type": "stream",
          "text": [
            "  site_id  user_count\n",
            "0   5NPAU         992\n",
            "1   N0OTG         561\n",
            "2   QGO3G         289\n"
          ],
          "name": "stdout"
        }
      ]
    },
    {
      "cell_type": "markdown",
      "metadata": {
        "id": "IejyM4xhr9X7",
        "colab_type": "text"
      },
      "source": [
        "**Question 4:** For each user, determine the first site he/she visited and the last site he/she visited based on the timestamp data. Compute the number of users whose first/last visits are to the same website. What is the number?"
      ]
    },
    {
      "cell_type": "code",
      "metadata": {
        "id": "BhpEYRB7Jm9h",
        "colab_type": "code",
        "colab": {
          "base_uri": "https://localhost:8080/",
          "height": 51
        },
        "outputId": "c4b5ef85-0298-45e9-8e48-46a90fa346d3"
      },
      "source": [
        "dfq4=client.query('''select count(*) as NumerOfUsers from `carbide-algebra-274912.interview.adops` a inner join `carbide-algebra-274912.interview.adops` b on a.user_id=b.user_id where\n",
        "                    a.ts= (SELECT MAX(ts) \n",
        "                    FROM `carbide-algebra-274912.interview.adops` as c where a.user_id=c.user_id) \n",
        "                    and b.ts= (SELECT MIN(ts) \n",
        "                    FROM `carbide-algebra-274912.interview.adops` as d where b.user_id=d.user_id) \n",
        "                    and a.site_id=b.site_id and a.user_id=b.user_id ''').to_dataframe()\n",
        "print(dfq4)                    "
      ],
      "execution_count": 24,
      "outputs": [
        {
          "output_type": "stream",
          "text": [
            "   NumerOfUsers\n",
            "0          1670\n"
          ],
          "name": "stdout"
        }
      ]
    }
  ]
}